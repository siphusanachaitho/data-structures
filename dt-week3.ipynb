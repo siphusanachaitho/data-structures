{
 "cells": [
  {
   "cell_type": "code",
   "execution_count": 5,
   "id": "56c8f4ae",
   "metadata": {},
   "outputs": [
    {
     "name": "stdout",
     "output_type": "stream",
     "text": [
      "5\n"
     ]
    }
   ],
   "source": [
    "text = \"ชูก้ารักฮันนี่\"\n",
    "position = text.find(\"รัก\")\n",
    "print(position)"
   ]
  },
  {
   "cell_type": "code",
   "execution_count": null,
   "id": "7aa66c70",
   "metadata": {},
   "outputs": [
    {
     "name": "stdout",
     "output_type": "stream",
     "text": [
      "['ผมรักแฟน', 'แต่แฟนชอบนอน']\n"
     ]
    }
   ],
   "source": [
    "# split data\n",
    "text = \"ผมรักแฟน แต่แฟนชอบนอน\"\n",
    "words = text.split()\n",
    "print(words)"
   ]
  },
  {
   "cell_type": "code",
   "execution_count": null,
   "id": "0494f24d",
   "metadata": {},
   "outputs": [
    {
     "name": "stdout",
     "output_type": "stream",
     "text": [
      "['เกือบหลับ แต่', ' ดัน กลับ', ' มา ได้']\n"
     ]
    }
   ],
   "source": [
    "#split data\n",
    "text = \"เกือบหลับ แต่; ดัน กลับ; มา ได้\"\n",
    "words = text.split(\";\")\n",
    "print(words)"
   ]
  },
  {
   "cell_type": "code",
   "execution_count": 32,
   "id": "cf631d92",
   "metadata": {},
   "outputs": [
    {
     "ename": "SyntaxError",
     "evalue": "invalid character 'ื' (U+0E37) (625160527.py, line 3)",
     "output_type": "error",
     "traceback": [
      "\u001b[1;36m  Cell \u001b[1;32mIn[32], line 3\u001b[1;36m\u001b[0m\n\u001b[1;33m    ืnew_text = text.replace(\"แมว\",\"CAT\")\u001b[0m\n\u001b[1;37m    ^\u001b[0m\n\u001b[1;31mSyntaxError\u001b[0m\u001b[1;31m:\u001b[0m invalid character 'ื' (U+0E37)\n"
     ]
    }
   ],
   "source": [
    "#Replace Function\n",
    "text = \"แมว แมว แมว\"\n",
    "ืnew_text = text.replace(\"แมว\",\"CAT\")\n",
    "print(new_text)"
   ]
  },
  {
   "cell_type": "code",
   "execution_count": 34,
   "id": "58c812a8",
   "metadata": {},
   "outputs": [
    {
     "name": "stdout",
     "output_type": "stream",
     "text": [
      "8\n",
      "4\n"
     ]
    }
   ],
   "source": [
    "#Len Function\n",
    "text = \"แมว หมา \"\n",
    "print(len(text))\n",
    "\n",
    "word1 = [\"หมา\",\"แมว\",\"เสือ\",\"สิงโต\"]\n",
    "word2 = {\"หมา\",\"แมว\",\"เสือ\",\"สิงโต\"}\n",
    "word3 = {\"key\":\"data-type\",\"value\":1}\n",
    "print(len(words2))"
   ]
  },
  {
   "cell_type": "code",
   "execution_count": null,
   "id": "d273be3c",
   "metadata": {},
   "outputs": [
    {
     "name": "stdout",
     "output_type": "stream",
     "text": [
      "you never work alone\n"
     ]
    }
   ],
   "source": [
    "#Lower\n",
    "text = \"You Never walk Alone\"   \n",
    "print(text.lower())"
   ]
  },
  {
   "cell_type": "code",
   "execution_count": 36,
   "id": "cb04d5b5",
   "metadata": {},
   "outputs": [
    {
     "name": "stdout",
     "output_type": "stream",
     "text": [
      "YOU NEVER WALK ALONE\n"
     ]
    }
   ],
   "source": [
    "#Upper\n",
    "text = \"You Never walk Alone\"   \n",
    "print(text.upper())"
   ]
  },
  {
   "cell_type": "code",
   "execution_count": 44,
   "id": "ec976614",
   "metadata": {},
   "outputs": [
    {
     "name": "stdout",
     "output_type": "stream",
     "text": [
      "เก่า => 71\n",
      "ใหม่ => 65\n"
     ]
    }
   ],
   "source": [
    "#Strip \n",
    "text = \"   >>>> วันนี้วันดี ที่เราได้มาพบกัน วันนี้วันจันทร์ มีตลาดมืดนะ !!!   \"\n",
    "new_text = text.strip()\n",
    "print(\"เก่า =>\", len(text))\n",
    "print(\"ใหม่ =>\", len(new_text))\n"
   ]
  },
  {
   "cell_type": "code",
   "execution_count": null,
   "id": "5c1e7a61",
   "metadata": {},
   "outputs": [],
   "source": [
    "#input\n",
    "text = input(\"Enter your text :\")\n",
    "print(text)\n",
    "print(len(text))\n",
    "cou = input(\"คำที่ต้องการค้นหาจากข้อมูลที่กอกด้านบน : \")\n",
    "print(cou)\n",
    "poli = text.count(cou)\n",
    "print(poli)\n",
    "\n",
    "positions = []\n",
    "index = text.find(cou)\n",
    "while index != -1 :\n",
    "    positions.append(index)\n",
    "    index = text.find(cou, index + 1)\n",
    "    \n",
    "print(f\"เเสดงตำเเหน่งของคำว่า'{cou}':{positions}\")\n",
    "    \n",
    "first_char = text[0].lower()\n",
    "last_char = text[-1].lower()\n",
    "\n",
    "words = text.split()\n",
    "\n",
    "start_words = [word for word in words if word.lower().startswith(first_char)]\n",
    "\n",
    "end_words = [word for word in words if word.lower().endswith(last_char)]\n",
    "\n",
    "\n",
    "print(\"ตัวอักษรแรกของข้อความคือ:\", first_char)\n",
    "\n",
    "print(\"ตัวอักษรสุดท้ายของข้อความคือ:\", last_char)"
   ]
  }
 ],
 "metadata": {
  "kernelspec": {
   "display_name": "Python 3",
   "language": "python",
   "name": "python3"
  },
  "language_info": {
   "codemirror_mode": {
    "name": "ipython",
    "version": 3
   },
   "file_extension": ".py",
   "mimetype": "text/x-python",
   "name": "python",
   "nbconvert_exporter": "python",
   "pygments_lexer": "ipython3",
   "version": "3.11.5"
  }
 },
 "nbformat": 4,
 "nbformat_minor": 5
}
