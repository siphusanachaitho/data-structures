{
 "cells": [
  {
   "cell_type": "code",
   "execution_count": 5,
   "id": "3374f66c",
   "metadata": {},
   "outputs": [
    {
     "ename": "SyntaxError",
     "evalue": "unterminated string literal (detected at line 20) (2035991277.py, line 20)",
     "output_type": "error",
     "traceback": [
      "\u001b[1;36m  Cell \u001b[1;32mIn[5], line 20\u001b[1;36m\u001b[0m\n\u001b[1;33m    print(\"ชื่อ:\", b['fname']), \",นามสกุล\" :\", b['lname'],)\u001b[0m\n\u001b[1;37m                                            ^\u001b[0m\n\u001b[1;31mSyntaxError\u001b[0m\u001b[1;31m:\u001b[0m unterminated string literal (detected at line 20)\n"
     ]
    }
   ],
   "source": [
    "a = {\n",
    "  \"std_id\":\"123456789\",\n",
    "  \"fname\" :\"ศิภูษณะชัย\",\n",
    "  \"lname\" :\"ทองหนุ\",\n",
    "  \"phone\" :\"0812704749\",\n",
    "  \"gender\":\"men\",\n",
    "  \"major\" :\"computer science\",\n",
    "   }\n",
    "\n",
    "\n",
    "print(\"รหัสนักศึกษา :\",b['std_id'])\n",
    "print(\"ชื่อ:\", b['fname'], \",นามสกุล\" :\", b['lname'],)\n",
    "\n",
    "\n",
    "\n"
   ]
  },
  {
   "cell_type": "code",
   "execution_count": 25,
   "id": "9bd17ea7",
   "metadata": {},
   "outputs": [
    {
     "name": "stdout",
     "output_type": "stream",
     "text": [
      "--------MAIN PROGTAM----------\n",
      "---พิมพ์ a รับข้อมูลใหม่,พิมพ์ q ออกจากโปรแกรม-\n",
      "--------MAIN PROGTAM----------\n",
      "---พิมพ์ a รับข้อมูลใหม่,พิมพ์ q ออกจากโปรแกรม-\n"
     ]
    }
   ],
   "source": [
    "student = []\n",
    "loop = True\n",
    "\n",
    "while loop:\n",
    "#############Storage#####################\n",
    "  input1 = input(\"std_id : \")\n",
    "  input2 = input(\"fname : \")\n",
    "  input3 = input(\"lname : \")\n",
    "  input4 = input(\"phone : \")\n",
    "  input5 = input(\"gender : \")\n",
    "  input6 = input(\"major : \")\n",
    "  data = {\n",
    "  \"std_id\":input1,\n",
    "  \"fname\" :input2,\n",
    "  \"lname\" :input3,\n",
    "  \"phone\" :input4,\n",
    "  \"gender\":input5,\n",
    "  \"major\" :input6,\n",
    "   }\n",
    "  ## add data to student\n",
    "  student.append(data) ## Storage\n",
    "\n",
    "  print(\"--------MAIN PROGTAM----------\")\n",
    "  print(\"---พิมพ์ a รับข้อมูลใหม่,พิมพ์ q ออกจากโปรแกรม-\")\n",
    "  inp_check = input(\"พิมพ์ 'a' หรือ พิมพ์ 'q' \")\n",
    "  \n",
    "  if(inp_check == \"a\"):\n",
    "     loop = True\n",
    "  else:\n",
    "     loop = False\n",
    "\n"
   ]
  },
  {
   "cell_type": "code",
   "execution_count": 29,
   "id": "e58d9ba4",
   "metadata": {},
   "outputs": [
    {
     "name": "stdout",
     "output_type": "stream",
     "text": [
      "จำนวนข้อมูล 2\n",
      "{'std_id': '1', 'fname': '2', 'lname': '3', 'phone': '4', 'gender': '5', 'major': '6'}\n",
      "{'std_id': '6', 'fname': '5', 'lname': '4', 'phone': '3', 'gender': '2', 'major': '1'}\n"
     ]
    }
   ],
   "source": [
    "print(\"จำนวนข้อมูล\", len(student))\n",
    "\n",
    "i = 0\n",
    "j = len(student)\n",
    "for i in range(j):\n",
    "    print(student[i])"
   ]
  }
 ],
 "metadata": {
  "kernelspec": {
   "display_name": "Python 3",
   "language": "python",
   "name": "python3"
  },
  "language_info": {
   "codemirror_mode": {
    "name": "ipython",
    "version": 3
   },
   "file_extension": ".py",
   "mimetype": "text/x-python",
   "name": "python",
   "nbconvert_exporter": "python",
   "pygments_lexer": "ipython3",
   "version": "3.11.5"
  }
 },
 "nbformat": 4,
 "nbformat_minor": 5
}
